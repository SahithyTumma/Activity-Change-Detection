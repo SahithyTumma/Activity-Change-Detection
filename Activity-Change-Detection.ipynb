{
  "nbformat": 4,
  "nbformat_minor": 0,
  "metadata": {
    "colab": {
      "provenance": [],
      "authorship_tag": "ABX9TyPBEV034J7JdaqjLXJ9kq3Z",
      "include_colab_link": true
    },
    "kernelspec": {
      "name": "python3",
      "display_name": "Python 3"
    },
    "language_info": {
      "name": "python"
    }
  },
  "cells": [
    {
      "cell_type": "markdown",
      "metadata": {
        "id": "view-in-github",
        "colab_type": "text"
      },
      "source": [
        "<a href=\"https://colab.research.google.com/github/SahithyTumma/Activity-Change-Detection/blob/main/Activity-Change-Detection.ipynb\" target=\"_parent\"><img src=\"https://colab.research.google.com/assets/colab-badge.svg\" alt=\"Open In Colab\"/></a>"
      ]
    },
    {
      "cell_type": "code",
      "execution_count": 1,
      "metadata": {
        "colab": {
          "base_uri": "https://localhost:8080/"
        },
        "id": "jPyMrehKCF77",
        "outputId": "39728683-117b-408b-e5ef-6012b9f1ce2d"
      },
      "outputs": [
        {
          "output_type": "stream",
          "name": "stdout",
          "text": [
            "Cloning into 'Activity-Change-Detection'...\n",
            "remote: Enumerating objects: 6, done.\u001b[K\n",
            "remote: Counting objects: 100% (6/6), done.\u001b[K\n",
            "remote: Compressing objects: 100% (5/5), done.\u001b[K\n",
            "remote: Total 6 (delta 0), reused 6 (delta 0), pack-reused 0\u001b[K\n",
            "Unpacking objects: 100% (6/6), done.\n"
          ]
        }
      ],
      "source": [
        "!git clone https://github.com/SahithyTumma/Activity-Change-Detection.git"
      ]
    },
    {
      "cell_type": "code",
      "source": [
        "import pandas as pd\n",
        "import matplotlib.pyplot as plt\n",
        "import seaborn as sns\n",
        "import tqdm\n",
        "import os"
      ],
      "metadata": {
        "id": "_gkFpPL6IAcp"
      },
      "execution_count": 2,
      "outputs": []
    },
    {
      "cell_type": "code",
      "source": [
        "os.listdir('Activity-Change-Detection')"
      ],
      "metadata": {
        "colab": {
          "base_uri": "https://localhost:8080/"
        },
        "id": "XRw3XykjIGD9",
        "outputId": "0f0a5f02-d40d-4920-a9f5-68b58703878b"
      },
      "execution_count": 3,
      "outputs": [
        {
          "output_type": "execute_result",
          "data": {
            "text/plain": [
              "['train.csv', 'test.csv', '.git']"
            ]
          },
          "metadata": {},
          "execution_count": 3
        }
      ]
    },
    {
      "cell_type": "code",
      "source": [
        "dfTrain = pd.read_csv('Activity-Change-Detection/train.csv')  ## dfTrain has dataset of training \n",
        "dfTest = pd.read_csv('Activity-Change-Detection/test.csv')    ## dfTest has dataset of testing "
      ],
      "metadata": {
        "id": "DK4RC5_RIOBh"
      },
      "execution_count": 4,
      "outputs": []
    },
    {
      "cell_type": "code",
      "source": [
        "df = pd.concat([dfTrain,dfTest])    ## total dataset = train+test\n",
        "df.reset_index(inplace=True)        ## make changes in the original data frame itself if True.\n",
        "df.drop('index',inplace=True,axis = 1)  ## can drop rows or columns in original full data\n",
        "df.info()   #check"
      ],
      "metadata": {
        "colab": {
          "base_uri": "https://localhost:8080/"
        },
        "id": "-_CWZYWCIXkF",
        "outputId": "c06456e2-b5ae-4600-b3f0-2c33e8a32a9f"
      },
      "execution_count": 5,
      "outputs": [
        {
          "output_type": "stream",
          "name": "stdout",
          "text": [
            "<class 'pandas.core.frame.DataFrame'>\n",
            "RangeIndex: 10299 entries, 0 to 10298\n",
            "Columns: 563 entries, tBodyAcc-mean()-X to Activity\n",
            "dtypes: float64(561), int64(1), object(1)\n",
            "memory usage: 44.2+ MB\n"
          ]
        }
      ]
    },
    {
      "cell_type": "code",
      "source": [
        "#checking of rows and columns to the total data\n",
        "print(\"Number of Data Points: \", df.shape[0])   ##total number of rows(total data collected for each feature)\n",
        "print(\"Number of Features    : \", df.shape[1])  ## total number of features we took (561)+2 attributes."
      ],
      "metadata": {
        "colab": {
          "base_uri": "https://localhost:8080/"
        },
        "id": "9J2a63_8IaFY",
        "outputId": "fe26bb60-76b9-4e45-b784-c899d5a507a9"
      },
      "execution_count": 6,
      "outputs": [
        {
          "output_type": "stream",
          "name": "stdout",
          "text": [
            "Number of Data Points:  10299\n",
            "Number of Features    :  563\n"
          ]
        }
      ]
    },
    {
      "cell_type": "code",
      "source": [],
      "metadata": {
        "id": "maO6_c6LIcQK"
      },
      "execution_count": null,
      "outputs": []
    }
  ]
}