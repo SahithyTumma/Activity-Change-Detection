{
  "nbformat": 4,
  "nbformat_minor": 0,
  "metadata": {
    "colab": {
      "provenance": [],
      "authorship_tag": "ABX9TyN1gytzzCimjkYGXq83zw0i",
      "include_colab_link": true
    },
    "kernelspec": {
      "name": "python3",
      "display_name": "Python 3"
    },
    "language_info": {
      "name": "python"
    }
  },
  "cells": [
    {
      "cell_type": "markdown",
      "metadata": {
        "id": "view-in-github",
        "colab_type": "text"
      },
      "source": [
        "<a href=\"https://colab.research.google.com/github/SahithyTumma/Activity-Change-Detection/blob/main/Activity-Change-Detection.ipynb\" target=\"_parent\"><img src=\"https://colab.research.google.com/assets/colab-badge.svg\" alt=\"Open In Colab\"/></a>"
      ]
    },
    {
      "cell_type": "code",
      "source": [
        "import pandas as pd\n",
        "import matplotlib.pyplot as plt\n",
        "import seaborn as sns\n",
        "import tqdm\n",
        "import os"
      ],
      "metadata": {
        "id": "_gkFpPL6IAcp"
      },
      "execution_count": null,
      "outputs": []
    },
    {
      "cell_type": "code",
      "source": [
        "dfTrain = pd.read_csv('https://raw.githubusercontent.com/SahithyTumma/Activity-Change-Detection/main/train.csv')  ## dfTrain has dataset of training \n",
        "dfTest = pd.read_csv('https://raw.githubusercontent.com/SahithyTumma/Activity-Change-Detection/main/test.csv')    ## dfTest has dataset of testing "
      ],
      "metadata": {
        "id": "DK4RC5_RIOBh"
      },
      "execution_count": null,
      "outputs": []
    },
    {
      "cell_type": "code",
      "source": [
        "df = pd.concat([dfTrain,dfTest])    ## total dataset = train+test\n",
        "df.reset_index(inplace=True)        ## make changes in the original data frame itself if True.\n",
        "df.drop('index',inplace=True,axis = 1)  ## can drop rows or columns in original full data\n",
        "df.info()   #check"
      ],
      "metadata": {
        "colab": {
          "base_uri": "https://localhost:8080/"
        },
        "id": "-_CWZYWCIXkF",
        "outputId": "1999ee1c-8a48-4d34-8f11-014345aab868"
      },
      "execution_count": null,
      "outputs": [
        {
          "output_type": "stream",
          "name": "stdout",
          "text": [
            "<class 'pandas.core.frame.DataFrame'>\n",
            "RangeIndex: 10299 entries, 0 to 10298\n",
            "Columns: 563 entries, tBodyAcc-mean()-X to Activity\n",
            "dtypes: float64(561), int64(1), object(1)\n",
            "memory usage: 44.2+ MB\n"
          ]
        }
      ]
    },
    {
      "cell_type": "code",
      "source": [
        "#checking of rows and columns to the total data\n",
        "print(\"Number of Data Points: \", df.shape[0])   ##total number of rows(total data collected for each feature)\n",
        "print(\"Number of Features    : \", df.shape[1])  ## total number of features we took (561)+2 attributes."
      ],
      "metadata": {
        "colab": {
          "base_uri": "https://localhost:8080/"
        },
        "id": "9J2a63_8IaFY",
        "outputId": "efadfcff-c930-4593-f675-787cbe03ba9d"
      },
      "execution_count": null,
      "outputs": [
        {
          "output_type": "stream",
          "name": "stdout",
          "text": [
            "Number of Data Points:  10299\n",
            "Number of Features    :  563\n"
          ]
        }
      ]
    }
  ]
}