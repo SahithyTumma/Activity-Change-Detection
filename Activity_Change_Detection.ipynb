{
  "nbformat": 4,
  "nbformat_minor": 0,
  "metadata": {
    "colab": {
      "provenance": [],
      "include_colab_link": true
    },
    "kernelspec": {
      "name": "python3",
      "display_name": "Python 3"
    },
    "language_info": {
      "name": "python"
    }
  },
  "cells": [
    {
      "cell_type": "markdown",
      "metadata": {
        "id": "view-in-github",
        "colab_type": "text"
      },
      "source": [
        "<a href=\"https://colab.research.google.com/github/SahithyTumma/Activity-Change-Detection/blob/main/Activity_Change_Detection.ipynb\" target=\"_parent\"><img src=\"https://colab.research.google.com/assets/colab-badge.svg\" alt=\"Open In Colab\"/></a>"
      ]
    },
    {
      "cell_type": "markdown",
      "source": [
        "**MINUTES OF MEET**\n",
        "\n",
        "\n",
        "1. DATA PROCESSING  -    3 min\n",
        "2. DATA VISUALIZATION / ANALYSIS - 3 min\n",
        "3. OBSERVATIONS       -   1 min\n",
        "4. A MACHINE LEARNIG MODEL -  2 min\n",
        "\n",
        "\n"
      ],
      "metadata": {
        "id": "s-48cCIXfVgK"
      }
    },
    {
      "cell_type": "markdown",
      "source": [
        "1)    ***DATA PROCESSING***"
      ],
      "metadata": {
        "id": "-tOPNJCNftK5"
      }
    },
    {
      "cell_type": "markdown",
      "source": [
        "***ACTIVITY CHANGE DETECTION DATASET DESCRIPTION***\n",
        "\n",
        "---\n",
        "\n",
        "\n",
        "\n",
        "***Reference***: https://github.com/vageeshh/Project_Session/blob/main/Machine_Learning/ML_Projects/HumanActivityRecognition/HumanActivityRecognition.ipynb\n",
        "\n",
        "---\n",
        "\n",
        "The data extracted is from 30 people, whose daily life movements are taken while carrying a waist-mounted smartphone with embedded inertial sensors.\n",
        "\n",
        "Regular activities like **walking, walking upstairs, downwards, sitting, standing, laying are recorded**. \n",
        "\n",
        "There are 2 sensors embedded namely accelerometer and gyroscope for each person. The **accelerometer** sensor captures 3-axial (XYZ) **linear acceleration** at a constant rate of 50Hz whereas **gyroscope** captures  3-axial (XYZ) **angular velocity** at a constant rate of 50Hz. The sensor signals (accelerometer and gyroscope) were pre-processed by applying noise filters and then sampled in fixed-width sliding windows of 2.56 sec and 50% overlap (128 readings/window) (digital data is being considered)\n",
        "\n",
        "Total dataset is split into **training(70%)** (21 subjects) and **testing(30%)** (9 subjects).\n",
        "\n",
        "***DATA ATTRIBUTES***\n",
        "\n",
        "1. Triaxial acceleration from the accelerometer (total acceleration) estimates body acceleration.\n",
        "2. Triaxial Angular velocity from the gyroscope estimates body rotational movements.\n",
        "3. 561 feature vector with time and frequency domain variables along with activity labels associated  ((265(t)+289(f))-> accelerometer + (7)-> gyroscope + (2)-> labels).\n",
        "4. Subjects no.2,4,9,10,12,13,18,20,24 are used for testing and remaining 21 are used for training.\n",
        "5. Every aspect recorded is divided into X,Y,Z dimensions for both time and frequency domains."
      ],
      "metadata": {
        "id": "3im4npY1awQI"
      }
    },
    {
      "cell_type": "code",
      "source": [
        "import pandas as pd\n",
        "import matplotlib.pyplot as plt\n",
        "import seaborn as sns\n",
        "import tqdm\n",
        "import os"
      ],
      "metadata": {
        "id": "_gkFpPL6IAcp"
      },
      "execution_count": null,
      "outputs": []
    },
    {
      "cell_type": "code",
      "source": [
        "dfTrain = pd.read_csv('https://raw.githubusercontent.com/SahithyTumma/Activity-Change-Detection/main/train.csv')  ## dfTrain has dataset of training \n",
        "dfTest = pd.read_csv('https://raw.githubusercontent.com/SahithyTumma/Activity-Change-Detection/main/test.csv')    ## dfTest has dataset of testing "
      ],
      "metadata": {
        "id": "DK4RC5_RIOBh"
      },
      "execution_count": null,
      "outputs": []
    },
    {
      "cell_type": "code",
      "source": [
        "df = pd.concat([dfTrain,dfTest])    ## total dataset = train+test\n",
        "df.reset_index(inplace=True)        ## make changes in the original data frame itself if True.\n",
        "df.drop('index',inplace=True,axis = 1)  ## can drop rows or columns in original full data\n",
        "df.info()   #check"
      ],
      "metadata": {
        "colab": {
          "base_uri": "https://localhost:8080/"
        },
        "id": "-_CWZYWCIXkF",
        "outputId": "e5abe7b8-bc67-4a41-f09e-e4881f803619"
      },
      "execution_count": null,
      "outputs": [
        {
          "output_type": "stream",
          "name": "stdout",
          "text": [
            "<class 'pandas.core.frame.DataFrame'>\n",
            "RangeIndex: 10299 entries, 0 to 10298\n",
            "Columns: 563 entries, tBodyAcc-mean()-X to Activity\n",
            "dtypes: float64(561), int64(1), object(1)\n",
            "memory usage: 44.2+ MB\n"
          ]
        }
      ]
    },
    {
      "cell_type": "markdown",
      "source": [
        "2) ***DATA VISUALIZATION***"
      ],
      "metadata": {
        "id": "W4hQk5fOf8Kj"
      }
    },
    {
      "cell_type": "code",
      "source": [
        "#checking of rows and columns to the total data\n",
        "print(\"Number of Data Points: \", df.shape[0])   ##total number of rows(total data collected for each feature)\n",
        "print(\"Number of Features    : \", df.shape[1])  ## total number of features we took (561)+2 attributes."
      ],
      "metadata": {
        "colab": {
          "base_uri": "https://localhost:8080/"
        },
        "id": "9J2a63_8IaFY",
        "outputId": "0cd5a7e0-85ca-4fe5-f563-36f3b7db46d2"
      },
      "execution_count": null,
      "outputs": [
        {
          "output_type": "stream",
          "name": "stdout",
          "text": [
            "Number of Data Points:  10299\n",
            "Number of Features    :  563\n"
          ]
        }
      ]
    },
    {
      "cell_type": "code",
      "source": [
        "columnNames = list()\n",
        "columnNames = df.columns\n",
        "badChars = ['-', '()','(',')', ',']\n",
        "newColumnNames = []\n",
        "for colName in columnNames:\n",
        "  newColumnName = ''.join(i for i in colName if i not in badChars)\n",
        "  newColumnNames.append(newColumnName)\n",
        "df.columns = newColumnNames"
      ],
      "metadata": {
        "id": "Utm_ASEPde7h"
      },
      "execution_count": null,
      "outputs": []
    },
    {
      "cell_type": "code",
      "source": [
        "df.head()"
      ],
      "metadata": {
        "colab": {
          "base_uri": "https://localhost:8080/",
          "height": 300
        },
        "id": "8YOH-Mc2bP2u",
        "outputId": "b81e7ec6-c455-4960-9bff-4bd626a6dad4"
      },
      "execution_count": null,
      "outputs": [
        {
          "output_type": "execute_result",
          "data": {
            "text/plain": [
              "   tBodyAccmeanX  tBodyAccmeanY  tBodyAccmeanZ  tBodyAccstdX  tBodyAccstdY  \\\n",
              "0       0.288585      -0.020294      -0.132905     -0.995279     -0.983111   \n",
              "1       0.278419      -0.016411      -0.123520     -0.998245     -0.975300   \n",
              "2       0.279653      -0.019467      -0.113462     -0.995380     -0.967187   \n",
              "3       0.279174      -0.026201      -0.123283     -0.996091     -0.983403   \n",
              "4       0.276629      -0.016570      -0.115362     -0.998139     -0.980817   \n",
              "\n",
              "   tBodyAccstdZ  tBodyAccmadX  tBodyAccmadY  tBodyAccmadZ  tBodyAccmaxX  ...  \\\n",
              "0     -0.913526     -0.995112     -0.983185     -0.923527     -0.934724  ...   \n",
              "1     -0.960322     -0.998807     -0.974914     -0.957686     -0.943068  ...   \n",
              "2     -0.978944     -0.996520     -0.963668     -0.977469     -0.938692  ...   \n",
              "3     -0.990675     -0.997099     -0.982750     -0.989302     -0.938692  ...   \n",
              "4     -0.990482     -0.998321     -0.979672     -0.990441     -0.942469  ...   \n",
              "\n",
              "   fBodyBodyGyroJerkMagkurtosis  angletBodyAccMeangravity  \\\n",
              "0                     -0.710304                 -0.112754   \n",
              "1                     -0.861499                  0.053477   \n",
              "2                     -0.760104                 -0.118559   \n",
              "3                     -0.482845                 -0.036788   \n",
              "4                     -0.699205                  0.123320   \n",
              "\n",
              "   angletBodyAccJerkMeangravityMean  angletBodyGyroMeangravityMean  \\\n",
              "0                          0.030400                      -0.464761   \n",
              "1                         -0.007435                      -0.732626   \n",
              "2                          0.177899                       0.100699   \n",
              "3                         -0.012892                       0.640011   \n",
              "4                          0.122542                       0.693578   \n",
              "\n",
              "   angletBodyGyroJerkMeangravityMean  angleXgravityMean  angleYgravityMean  \\\n",
              "0                          -0.018446          -0.841247           0.179941   \n",
              "1                           0.703511          -0.844788           0.180289   \n",
              "2                           0.808529          -0.848933           0.180637   \n",
              "3                          -0.485366          -0.848649           0.181935   \n",
              "4                          -0.615971          -0.847865           0.185151   \n",
              "\n",
              "   angleZgravityMean  subject  Activity  \n",
              "0          -0.058627        1  STANDING  \n",
              "1          -0.054317        1  STANDING  \n",
              "2          -0.049118        1  STANDING  \n",
              "3          -0.047663        1  STANDING  \n",
              "4          -0.043892        1  STANDING  \n",
              "\n",
              "[5 rows x 563 columns]"
            ],
            "text/html": [
              "\n",
              "  <div id=\"df-6351eb59-3fac-4fbe-b044-30c3825d303a\">\n",
              "    <div class=\"colab-df-container\">\n",
              "      <div>\n",
              "<style scoped>\n",
              "    .dataframe tbody tr th:only-of-type {\n",
              "        vertical-align: middle;\n",
              "    }\n",
              "\n",
              "    .dataframe tbody tr th {\n",
              "        vertical-align: top;\n",
              "    }\n",
              "\n",
              "    .dataframe thead th {\n",
              "        text-align: right;\n",
              "    }\n",
              "</style>\n",
              "<table border=\"1\" class=\"dataframe\">\n",
              "  <thead>\n",
              "    <tr style=\"text-align: right;\">\n",
              "      <th></th>\n",
              "      <th>tBodyAccmeanX</th>\n",
              "      <th>tBodyAccmeanY</th>\n",
              "      <th>tBodyAccmeanZ</th>\n",
              "      <th>tBodyAccstdX</th>\n",
              "      <th>tBodyAccstdY</th>\n",
              "      <th>tBodyAccstdZ</th>\n",
              "      <th>tBodyAccmadX</th>\n",
              "      <th>tBodyAccmadY</th>\n",
              "      <th>tBodyAccmadZ</th>\n",
              "      <th>tBodyAccmaxX</th>\n",
              "      <th>...</th>\n",
              "      <th>fBodyBodyGyroJerkMagkurtosis</th>\n",
              "      <th>angletBodyAccMeangravity</th>\n",
              "      <th>angletBodyAccJerkMeangravityMean</th>\n",
              "      <th>angletBodyGyroMeangravityMean</th>\n",
              "      <th>angletBodyGyroJerkMeangravityMean</th>\n",
              "      <th>angleXgravityMean</th>\n",
              "      <th>angleYgravityMean</th>\n",
              "      <th>angleZgravityMean</th>\n",
              "      <th>subject</th>\n",
              "      <th>Activity</th>\n",
              "    </tr>\n",
              "  </thead>\n",
              "  <tbody>\n",
              "    <tr>\n",
              "      <th>0</th>\n",
              "      <td>0.288585</td>\n",
              "      <td>-0.020294</td>\n",
              "      <td>-0.132905</td>\n",
              "      <td>-0.995279</td>\n",
              "      <td>-0.983111</td>\n",
              "      <td>-0.913526</td>\n",
              "      <td>-0.995112</td>\n",
              "      <td>-0.983185</td>\n",
              "      <td>-0.923527</td>\n",
              "      <td>-0.934724</td>\n",
              "      <td>...</td>\n",
              "      <td>-0.710304</td>\n",
              "      <td>-0.112754</td>\n",
              "      <td>0.030400</td>\n",
              "      <td>-0.464761</td>\n",
              "      <td>-0.018446</td>\n",
              "      <td>-0.841247</td>\n",
              "      <td>0.179941</td>\n",
              "      <td>-0.058627</td>\n",
              "      <td>1</td>\n",
              "      <td>STANDING</td>\n",
              "    </tr>\n",
              "    <tr>\n",
              "      <th>1</th>\n",
              "      <td>0.278419</td>\n",
              "      <td>-0.016411</td>\n",
              "      <td>-0.123520</td>\n",
              "      <td>-0.998245</td>\n",
              "      <td>-0.975300</td>\n",
              "      <td>-0.960322</td>\n",
              "      <td>-0.998807</td>\n",
              "      <td>-0.974914</td>\n",
              "      <td>-0.957686</td>\n",
              "      <td>-0.943068</td>\n",
              "      <td>...</td>\n",
              "      <td>-0.861499</td>\n",
              "      <td>0.053477</td>\n",
              "      <td>-0.007435</td>\n",
              "      <td>-0.732626</td>\n",
              "      <td>0.703511</td>\n",
              "      <td>-0.844788</td>\n",
              "      <td>0.180289</td>\n",
              "      <td>-0.054317</td>\n",
              "      <td>1</td>\n",
              "      <td>STANDING</td>\n",
              "    </tr>\n",
              "    <tr>\n",
              "      <th>2</th>\n",
              "      <td>0.279653</td>\n",
              "      <td>-0.019467</td>\n",
              "      <td>-0.113462</td>\n",
              "      <td>-0.995380</td>\n",
              "      <td>-0.967187</td>\n",
              "      <td>-0.978944</td>\n",
              "      <td>-0.996520</td>\n",
              "      <td>-0.963668</td>\n",
              "      <td>-0.977469</td>\n",
              "      <td>-0.938692</td>\n",
              "      <td>...</td>\n",
              "      <td>-0.760104</td>\n",
              "      <td>-0.118559</td>\n",
              "      <td>0.177899</td>\n",
              "      <td>0.100699</td>\n",
              "      <td>0.808529</td>\n",
              "      <td>-0.848933</td>\n",
              "      <td>0.180637</td>\n",
              "      <td>-0.049118</td>\n",
              "      <td>1</td>\n",
              "      <td>STANDING</td>\n",
              "    </tr>\n",
              "    <tr>\n",
              "      <th>3</th>\n",
              "      <td>0.279174</td>\n",
              "      <td>-0.026201</td>\n",
              "      <td>-0.123283</td>\n",
              "      <td>-0.996091</td>\n",
              "      <td>-0.983403</td>\n",
              "      <td>-0.990675</td>\n",
              "      <td>-0.997099</td>\n",
              "      <td>-0.982750</td>\n",
              "      <td>-0.989302</td>\n",
              "      <td>-0.938692</td>\n",
              "      <td>...</td>\n",
              "      <td>-0.482845</td>\n",
              "      <td>-0.036788</td>\n",
              "      <td>-0.012892</td>\n",
              "      <td>0.640011</td>\n",
              "      <td>-0.485366</td>\n",
              "      <td>-0.848649</td>\n",
              "      <td>0.181935</td>\n",
              "      <td>-0.047663</td>\n",
              "      <td>1</td>\n",
              "      <td>STANDING</td>\n",
              "    </tr>\n",
              "    <tr>\n",
              "      <th>4</th>\n",
              "      <td>0.276629</td>\n",
              "      <td>-0.016570</td>\n",
              "      <td>-0.115362</td>\n",
              "      <td>-0.998139</td>\n",
              "      <td>-0.980817</td>\n",
              "      <td>-0.990482</td>\n",
              "      <td>-0.998321</td>\n",
              "      <td>-0.979672</td>\n",
              "      <td>-0.990441</td>\n",
              "      <td>-0.942469</td>\n",
              "      <td>...</td>\n",
              "      <td>-0.699205</td>\n",
              "      <td>0.123320</td>\n",
              "      <td>0.122542</td>\n",
              "      <td>0.693578</td>\n",
              "      <td>-0.615971</td>\n",
              "      <td>-0.847865</td>\n",
              "      <td>0.185151</td>\n",
              "      <td>-0.043892</td>\n",
              "      <td>1</td>\n",
              "      <td>STANDING</td>\n",
              "    </tr>\n",
              "  </tbody>\n",
              "</table>\n",
              "<p>5 rows × 563 columns</p>\n",
              "</div>\n",
              "      <button class=\"colab-df-convert\" onclick=\"convertToInteractive('df-6351eb59-3fac-4fbe-b044-30c3825d303a')\"\n",
              "              title=\"Convert this dataframe to an interactive table.\"\n",
              "              style=\"display:none;\">\n",
              "        \n",
              "  <svg xmlns=\"http://www.w3.org/2000/svg\" height=\"24px\"viewBox=\"0 0 24 24\"\n",
              "       width=\"24px\">\n",
              "    <path d=\"M0 0h24v24H0V0z\" fill=\"none\"/>\n",
              "    <path d=\"M18.56 5.44l.94 2.06.94-2.06 2.06-.94-2.06-.94-.94-2.06-.94 2.06-2.06.94zm-11 1L8.5 8.5l.94-2.06 2.06-.94-2.06-.94L8.5 2.5l-.94 2.06-2.06.94zm10 10l.94 2.06.94-2.06 2.06-.94-2.06-.94-.94-2.06-.94 2.06-2.06.94z\"/><path d=\"M17.41 7.96l-1.37-1.37c-.4-.4-.92-.59-1.43-.59-.52 0-1.04.2-1.43.59L10.3 9.45l-7.72 7.72c-.78.78-.78 2.05 0 2.83L4 21.41c.39.39.9.59 1.41.59.51 0 1.02-.2 1.41-.59l7.78-7.78 2.81-2.81c.8-.78.8-2.07 0-2.86zM5.41 20L4 18.59l7.72-7.72 1.47 1.35L5.41 20z\"/>\n",
              "  </svg>\n",
              "      </button>\n",
              "      \n",
              "  <style>\n",
              "    .colab-df-container {\n",
              "      display:flex;\n",
              "      flex-wrap:wrap;\n",
              "      gap: 12px;\n",
              "    }\n",
              "\n",
              "    .colab-df-convert {\n",
              "      background-color: #E8F0FE;\n",
              "      border: none;\n",
              "      border-radius: 50%;\n",
              "      cursor: pointer;\n",
              "      display: none;\n",
              "      fill: #1967D2;\n",
              "      height: 32px;\n",
              "      padding: 0 0 0 0;\n",
              "      width: 32px;\n",
              "    }\n",
              "\n",
              "    .colab-df-convert:hover {\n",
              "      background-color: #E2EBFA;\n",
              "      box-shadow: 0px 1px 2px rgba(60, 64, 67, 0.3), 0px 1px 3px 1px rgba(60, 64, 67, 0.15);\n",
              "      fill: #174EA6;\n",
              "    }\n",
              "\n",
              "    [theme=dark] .colab-df-convert {\n",
              "      background-color: #3B4455;\n",
              "      fill: #D2E3FC;\n",
              "    }\n",
              "\n",
              "    [theme=dark] .colab-df-convert:hover {\n",
              "      background-color: #434B5C;\n",
              "      box-shadow: 0px 1px 3px 1px rgba(0, 0, 0, 0.15);\n",
              "      filter: drop-shadow(0px 1px 2px rgba(0, 0, 0, 0.3));\n",
              "      fill: #FFFFFF;\n",
              "    }\n",
              "  </style>\n",
              "\n",
              "      <script>\n",
              "        const buttonEl =\n",
              "          document.querySelector('#df-6351eb59-3fac-4fbe-b044-30c3825d303a button.colab-df-convert');\n",
              "        buttonEl.style.display =\n",
              "          google.colab.kernel.accessAllowed ? 'block' : 'none';\n",
              "\n",
              "        async function convertToInteractive(key) {\n",
              "          const element = document.querySelector('#df-6351eb59-3fac-4fbe-b044-30c3825d303a');\n",
              "          const dataTable =\n",
              "            await google.colab.kernel.invokeFunction('convertToInteractive',\n",
              "                                                     [key], {});\n",
              "          if (!dataTable) return;\n",
              "\n",
              "          const docLinkHtml = 'Like what you see? Visit the ' +\n",
              "            '<a target=\"_blank\" href=https://colab.research.google.com/notebooks/data_table.ipynb>data table notebook</a>'\n",
              "            + ' to learn more about interactive tables.';\n",
              "          element.innerHTML = '';\n",
              "          dataTable['output_type'] = 'display_data';\n",
              "          await google.colab.output.renderOutput(dataTable, element);\n",
              "          const docLink = document.createElement('div');\n",
              "          docLink.innerHTML = docLinkHtml;\n",
              "          element.appendChild(docLink);\n",
              "        }\n",
              "      </script>\n",
              "    </div>\n",
              "  </div>\n",
              "  "
            ]
          },
          "metadata": {},
          "execution_count": 13
        }
      ]
    },
    {
      "cell_type": "code",
      "source": [
        "df.Activity.value_counts().plot.bar()   ## total number of data points contributing for each activity"
      ],
      "metadata": {
        "colab": {
          "base_uri": "https://localhost:8080/",
          "height": 391
        },
        "id": "0vxTmqndbNVM",
        "outputId": "050085a3-2624-4f93-eb23-a00286fef76c"
      },
      "execution_count": null,
      "outputs": [
        {
          "output_type": "execute_result",
          "data": {
            "text/plain": [
              "<matplotlib.axes._subplots.AxesSubplot at 0x7f1e2f2ebe10>"
            ]
          },
          "metadata": {},
          "execution_count": 14
        },
        {
          "output_type": "display_data",
          "data": {
            "text/plain": [
              "<Figure size 432x288 with 1 Axes>"
            ],
            "image/png": "[encoded data removed]"
          },
          "metadata": {
            "needs_background": "light"
          }
        }
      ]
    },
    {
      "cell_type": "code",
      "source": [
        "%time\n",
        "df.groupby('Activity').mean() ## mean of all datapoints for an activity for all features"
      ],
      "metadata": {
        "colab": {
          "base_uri": "https://localhost:8080/",
          "height": 397
        },
        "id": "NfQvhzPzbnTp",
        "outputId": "87887267-1d63-4b2d-f9f1-09999d8419f6"
      },
      "execution_count": null,
      "outputs": [
        {
          "output_type": "stream",
          "name": "stdout",
          "text": [
            "CPU times: user 4 µs, sys: 1 µs, total: 5 µs\n",
            "Wall time: 9.3 µs\n"
          ]
        },
        {
          "output_type": "execute_result",
          "data": {
            "text/plain": [
              "                    tBodyAccmeanX  tBodyAccmeanY  tBodyAccmeanZ  tBodyAccstdX  \\\n",
              "Activity                                                                        \n",
              "LAYING                   0.268649      -0.018318      -0.107436     -0.960932   \n",
              "SITTING                  0.273060      -0.012690      -0.105517     -0.983446   \n",
              "STANDING                 0.279153      -0.016152      -0.106587     -0.984435   \n",
              "WALKING                  0.276337      -0.017907      -0.108882     -0.314644   \n",
              "WALKING_DOWNSTAIRS       0.288137      -0.016312      -0.105762      0.100766   \n",
              "WALKING_UPSTAIRS         0.262295      -0.025923      -0.120538     -0.237990   \n",
              "\n",
              "                    tBodyAccstdY  tBodyAccstdZ  tBodyAccmadX  tBodyAccmadY  \\\n",
              "Activity                                                                     \n",
              "LAYING                 -0.943507     -0.948069     -0.963395     -0.944099   \n",
              "SITTING                -0.934881     -0.938982     -0.985280     -0.934798   \n",
              "STANDING               -0.932509     -0.939914     -0.987205     -0.933875   \n",
              "WALKING                -0.023583     -0.273921     -0.352470     -0.055491   \n",
              "WALKING_DOWNSTAIRS      0.059549     -0.190805      0.032426      0.003907   \n",
              "WALKING_UPSTAIRS       -0.016033     -0.175450     -0.297094     -0.030865   \n",
              "\n",
              "                    tBodyAccmadZ  tBodyAccmaxX  ...  \\\n",
              "Activity                                        ...   \n",
              "LAYING                 -0.947261     -0.911610  ...   \n",
              "SITTING                -0.936671     -0.926703  ...   \n",
              "STANDING               -0.937739     -0.921265  ...   \n",
              "WALKING                -0.274098     -0.113458  ...   \n",
              "WALKING_DOWNSTAIRS     -0.214569      0.417152  ...   \n",
              "WALKING_UPSTAIRS       -0.172811     -0.015003  ...   \n",
              "\n",
              "                    fBodyBodyGyroJerkMagskewness  \\\n",
              "Activity                                           \n",
              "LAYING                                 -0.342490   \n",
              "SITTING                                -0.384740   \n",
              "STANDING                               -0.343769   \n",
              "WALKING                                -0.071308   \n",
              "WALKING_DOWNSTAIRS                     -0.277020   \n",
              "WALKING_UPSTAIRS                       -0.361533   \n",
              "\n",
              "                    fBodyBodyGyroJerkMagkurtosis  angletBodyAccMeangravity  \\\n",
              "Activity                                                                     \n",
              "LAYING                                 -0.658640                  0.010366   \n",
              "SITTING                                -0.686795                  0.012034   \n",
              "STANDING                               -0.654989                  0.006991   \n",
              "WALKING                                -0.400268                  0.014918   \n",
              "WALKING_DOWNSTAIRS                     -0.618394                 -0.039692   \n",
              "WALKING_UPSTAIRS                       -0.682468                  0.035371   \n",
              "\n",
              "                    angletBodyAccJerkMeangravityMean  \\\n",
              "Activity                                               \n",
              "LAYING                                      0.016013   \n",
              "SITTING                                     0.002458   \n",
              "STANDING                                    0.010397   \n",
              "WALKING                                    -0.007011   \n",
              "WALKING_DOWNSTAIRS                         -0.018665   \n",
              "WALKING_UPSTAIRS                            0.006652   \n",
              "\n",
              "                    angletBodyGyroMeangravityMean  \\\n",
              "Activity                                            \n",
              "LAYING                                   0.022788   \n",
              "SITTING                                  0.013413   \n",
              "STANDING                                 0.004614   \n",
              "WALKING                                  0.011332   \n",
              "WALKING_DOWNSTAIRS                       0.203588   \n",
              "WALKING_UPSTAIRS                        -0.129903   \n",
              "\n",
              "                    angletBodyGyroJerkMeangravityMean  angleXgravityMean  \\\n",
              "Activity                                                                   \n",
              "LAYING                                       0.009191           0.520261   \n",
              "SITTING                                     -0.033260          -0.706042   \n",
              "STANDING                                     0.015957          -0.774143   \n",
              "WALKING                                     -0.019443          -0.761886   \n",
              "WALKING_DOWNSTAIRS                          -0.076029          -0.780873   \n",
              "WALKING_UPSTAIRS                             0.036432          -0.637980   \n",
              "\n",
              "                    angleYgravityMean  angleZgravityMean    subject  \n",
              "Activity                                                             \n",
              "LAYING                      -0.435944          -0.427749  16.643519  \n",
              "SITTING                      0.006140          -0.089532  16.680360  \n",
              "STANDING                     0.209818           0.031743  16.513116  \n",
              "WALKING                      0.218599           0.059771  15.272938  \n",
              "WALKING_DOWNSTAIRS           0.200189           0.055866  15.828592  \n",
              "WALKING_UPSTAIRS             0.278642           0.122794  15.716969  \n",
              "\n",
              "[6 rows x 562 columns]"
            ],
            "text/html": [
              "\n",
              "  <div id=\"df-2e1cccd6-6658-4d63-969c-3d1f2d797d43\">\n",
              "    <div class=\"colab-df-container\">\n",
              "      <div>\n",
              "<style scoped>\n",
              "    .dataframe tbody tr th:only-of-type {\n",
              "        vertical-align: middle;\n",
              "    }\n",
              "\n",
              "    .dataframe tbody tr th {\n",
              "        vertical-align: top;\n",
              "    }\n",
              "\n",
              "    .dataframe thead th {\n",
              "        text-align: right;\n",
              "    }\n",
              "</style>\n",
              "<table border=\"1\" class=\"dataframe\">\n",
              "  <thead>\n",
              "    <tr style=\"text-align: right;\">\n",
              "      <th></th>\n",
              "      <th>tBodyAccmeanX</th>\n",
              "      <th>tBodyAccmeanY</th>\n",
              "      <th>tBodyAccmeanZ</th>\n",
              "      <th>tBodyAccstdX</th>\n",
              "      <th>tBodyAccstdY</th>\n",
              "      <th>tBodyAccstdZ</th>\n",
              "      <th>tBodyAccmadX</th>\n",
              "      <th>tBodyAccmadY</th>\n",
              "      <th>tBodyAccmadZ</th>\n",
              "      <th>tBodyAccmaxX</th>\n",
              "      <th>...</th>\n",
              "      <th>fBodyBodyGyroJerkMagskewness</th>\n",
              "      <th>fBodyBodyGyroJerkMagkurtosis</th>\n",
              "      <th>angletBodyAccMeangravity</th>\n",
              "      <th>angletBodyAccJerkMeangravityMean</th>\n",
              "      <th>angletBodyGyroMeangravityMean</th>\n",
              "      <th>angletBodyGyroJerkMeangravityMean</th>\n",
              "      <th>angleXgravityMean</th>\n",
              "      <th>angleYgravityMean</th>\n",
              "      <th>angleZgravityMean</th>\n",
              "      <th>subject</th>\n",
              "    </tr>\n",
              "    <tr>\n",
              "      <th>Activity</th>\n",
              "      <th></th>\n",
              "      <th></th>\n",
              "      <th></th>\n",
              "      <th></th>\n",
              "      <th></th>\n",
              "      <th></th>\n",
              "      <th></th>\n",
              "      <th></th>\n",
              "      <th></th>\n",
              "      <th></th>\n",
              "      <th></th>\n",
              "      <th></th>\n",
              "      <th></th>\n",
              "      <th></th>\n",
              "      <th></th>\n",
              "      <th></th>\n",
              "      <th></th>\n",
              "      <th></th>\n",
              "      <th></th>\n",
              "      <th></th>\n",
              "      <th></th>\n",
              "    </tr>\n",
              "  </thead>\n",
              "  <tbody>\n",
              "    <tr>\n",
              "      <th>LAYING</th>\n",
              "      <td>0.268649</td>\n",
              "      <td>-0.018318</td>\n",
              "      <td>-0.107436</td>\n",
              "      <td>-0.960932</td>\n",
              "      <td>-0.943507</td>\n",
              "      <td>-0.948069</td>\n",
              "      <td>-0.963395</td>\n",
              "      <td>-0.944099</td>\n",
              "      <td>-0.947261</td>\n",
              "      <td>-0.911610</td>\n",
              "      <td>...</td>\n",
              "      <td>-0.342490</td>\n",
              "      <td>-0.658640</td>\n",
              "      <td>0.010366</td>\n",
              "      <td>0.016013</td>\n",
              "      <td>0.022788</td>\n",
              "      <td>0.009191</td>\n",
              "      <td>0.520261</td>\n",
              "      <td>-0.435944</td>\n",
              "      <td>-0.427749</td>\n",
              "      <td>16.643519</td>\n",
              "    </tr>\n",
              "    <tr>\n",
              "      <th>SITTING</th>\n",
              "      <td>0.273060</td>\n",
              "      <td>-0.012690</td>\n",
              "      <td>-0.105517</td>\n",
              "      <td>-0.983446</td>\n",
              "      <td>-0.934881</td>\n",
              "      <td>-0.938982</td>\n",
              "      <td>-0.985280</td>\n",
              "      <td>-0.934798</td>\n",
              "      <td>-0.936671</td>\n",
              "      <td>-0.926703</td>\n",
              "      <td>...</td>\n",
              "      <td>-0.384740</td>\n",
              "      <td>-0.686795</td>\n",
              "      <td>0.012034</td>\n",
              "      <td>0.002458</td>\n",
              "      <td>0.013413</td>\n",
              "      <td>-0.033260</td>\n",
              "      <td>-0.706042</td>\n",
              "      <td>0.006140</td>\n",
              "      <td>-0.089532</td>\n",
              "      <td>16.680360</td>\n",
              "    </tr>\n",
              "    <tr>\n",
              "      <th>STANDING</th>\n",
              "      <td>0.279153</td>\n",
              "      <td>-0.016152</td>\n",
              "      <td>-0.106587</td>\n",
              "      <td>-0.984435</td>\n",
              "      <td>-0.932509</td>\n",
              "      <td>-0.939914</td>\n",
              "      <td>-0.987205</td>\n",
              "      <td>-0.933875</td>\n",
              "      <td>-0.937739</td>\n",
              "      <td>-0.921265</td>\n",
              "      <td>...</td>\n",
              "      <td>-0.343769</td>\n",
              "      <td>-0.654989</td>\n",
              "      <td>0.006991</td>\n",
              "      <td>0.010397</td>\n",
              "      <td>0.004614</td>\n",
              "      <td>0.015957</td>\n",
              "      <td>-0.774143</td>\n",
              "      <td>0.209818</td>\n",
              "      <td>0.031743</td>\n",
              "      <td>16.513116</td>\n",
              "    </tr>\n",
              "    <tr>\n",
              "      <th>WALKING</th>\n",
              "      <td>0.276337</td>\n",
              "      <td>-0.017907</td>\n",
              "      <td>-0.108882</td>\n",
              "      <td>-0.314644</td>\n",
              "      <td>-0.023583</td>\n",
              "      <td>-0.273921</td>\n",
              "      <td>-0.352470</td>\n",
              "      <td>-0.055491</td>\n",
              "      <td>-0.274098</td>\n",
              "      <td>-0.113458</td>\n",
              "      <td>...</td>\n",
              "      <td>-0.071308</td>\n",
              "      <td>-0.400268</td>\n",
              "      <td>0.014918</td>\n",
              "      <td>-0.007011</td>\n",
              "      <td>0.011332</td>\n",
              "      <td>-0.019443</td>\n",
              "      <td>-0.761886</td>\n",
              "      <td>0.218599</td>\n",
              "      <td>0.059771</td>\n",
              "      <td>15.272938</td>\n",
              "    </tr>\n",
              "    <tr>\n",
              "      <th>WALKING_DOWNSTAIRS</th>\n",
              "      <td>0.288137</td>\n",
              "      <td>-0.016312</td>\n",
              "      <td>-0.105762</td>\n",
              "      <td>0.100766</td>\n",
              "      <td>0.059549</td>\n",
              "      <td>-0.190805</td>\n",
              "      <td>0.032426</td>\n",
              "      <td>0.003907</td>\n",
              "      <td>-0.214569</td>\n",
              "      <td>0.417152</td>\n",
              "      <td>...</td>\n",
              "      <td>-0.277020</td>\n",
              "      <td>-0.618394</td>\n",
              "      <td>-0.039692</td>\n",
              "      <td>-0.018665</td>\n",
              "      <td>0.203588</td>\n",
              "      <td>-0.076029</td>\n",
              "      <td>-0.780873</td>\n",
              "      <td>0.200189</td>\n",
              "      <td>0.055866</td>\n",
              "      <td>15.828592</td>\n",
              "    </tr>\n",
              "    <tr>\n",
              "      <th>WALKING_UPSTAIRS</th>\n",
              "      <td>0.262295</td>\n",
              "      <td>-0.025923</td>\n",
              "      <td>-0.120538</td>\n",
              "      <td>-0.237990</td>\n",
              "      <td>-0.016033</td>\n",
              "      <td>-0.175450</td>\n",
              "      <td>-0.297094</td>\n",
              "      <td>-0.030865</td>\n",
              "      <td>-0.172811</td>\n",
              "      <td>-0.015003</td>\n",
              "      <td>...</td>\n",
              "      <td>-0.361533</td>\n",
              "      <td>-0.682468</td>\n",
              "      <td>0.035371</td>\n",
              "      <td>0.006652</td>\n",
              "      <td>-0.129903</td>\n",
              "      <td>0.036432</td>\n",
              "      <td>-0.637980</td>\n",
              "      <td>0.278642</td>\n",
              "      <td>0.122794</td>\n",
              "      <td>15.716969</td>\n",
              "    </tr>\n",
              "  </tbody>\n",
              "</table>\n",
              "<p>6 rows × 562 columns</p>\n",
              "</div>\n",
              "      <button class=\"colab-df-convert\" onclick=\"convertToInteractive('df-2e1cccd6-6658-4d63-969c-3d1f2d797d43')\"\n",
              "              title=\"Convert this dataframe to an interactive table.\"\n",
              "              style=\"display:none;\">\n",
              "        \n",
              "  <svg xmlns=\"http://www.w3.org/2000/svg\" height=\"24px\"viewBox=\"0 0 24 24\"\n",
              "       width=\"24px\">\n",
              "    <path d=\"M0 0h24v24H0V0z\" fill=\"none\"/>\n",
              "    <path d=\"M18.56 5.44l.94 2.06.94-2.06 2.06-.94-2.06-.94-.94-2.06-.94 2.06-2.06.94zm-11 1L8.5 8.5l.94-2.06 2.06-.94-2.06-.94L8.5 2.5l-.94 2.06-2.06.94zm10 10l.94 2.06.94-2.06 2.06-.94-2.06-.94-.94-2.06-.94 2.06-2.06.94z\"/><path d=\"M17.41 7.96l-1.37-1.37c-.4-.4-.92-.59-1.43-.59-.52 0-1.04.2-1.43.59L10.3 9.45l-7.72 7.72c-.78.78-.78 2.05 0 2.83L4 21.41c.39.39.9.59 1.41.59.51 0 1.02-.2 1.41-.59l7.78-7.78 2.81-2.81c.8-.78.8-2.07 0-2.86zM5.41 20L4 18.59l7.72-7.72 1.47 1.35L5.41 20z\"/>\n",
              "  </svg>\n",
              "      </button>\n",
              "      \n",
              "  <style>\n",
              "    .colab-df-container {\n",
              "      display:flex;\n",
              "      flex-wrap:wrap;\n",
              "      gap: 12px;\n",
              "    }\n",
              "\n",
              "    .colab-df-convert {\n",
              "      background-color: #E8F0FE;\n",
              "      border: none;\n",
              "      border-radius: 50%;\n",
              "      cursor: pointer;\n",
              "      display: none;\n",
              "      fill: #1967D2;\n",
              "      height: 32px;\n",
              "      padding: 0 0 0 0;\n",
              "      width: 32px;\n",
              "    }\n",
              "\n",
              "    .colab-df-convert:hover {\n",
              "      background-color: #E2EBFA;\n",
              "      box-shadow: 0px 1px 2px rgba(60, 64, 67, 0.3), 0px 1px 3px 1px rgba(60, 64, 67, 0.15);\n",
              "      fill: #174EA6;\n",
              "    }\n",
              "\n",
              "    [theme=dark] .colab-df-convert {\n",
              "      background-color: #3B4455;\n",
              "      fill: #D2E3FC;\n",
              "    }\n",
              "\n",
              "    [theme=dark] .colab-df-convert:hover {\n",
              "      background-color: #434B5C;\n",
              "      box-shadow: 0px 1px 3px 1px rgba(0, 0, 0, 0.15);\n",
              "      filter: drop-shadow(0px 1px 2px rgba(0, 0, 0, 0.3));\n",
              "      fill: #FFFFFF;\n",
              "    }\n",
              "  </style>\n",
              "\n",
              "      <script>\n",
              "        const buttonEl =\n",
              "          document.querySelector('#df-2e1cccd6-6658-4d63-969c-3d1f2d797d43 button.colab-df-convert');\n",
              "        buttonEl.style.display =\n",
              "          google.colab.kernel.accessAllowed ? 'block' : 'none';\n",
              "\n",
              "        async function convertToInteractive(key) {\n",
              "          const element = document.querySelector('#df-2e1cccd6-6658-4d63-969c-3d1f2d797d43');\n",
              "          const dataTable =\n",
              "            await google.colab.kernel.invokeFunction('convertToInteractive',\n",
              "                                                     [key], {});\n",
              "          if (!dataTable) return;\n",
              "\n",
              "          const docLinkHtml = 'Like what you see? Visit the ' +\n",
              "            '<a target=\"_blank\" href=https://colab.research.google.com/notebooks/data_table.ipynb>data table notebook</a>'\n",
              "            + ' to learn more about interactive tables.';\n",
              "          element.innerHTML = '';\n",
              "          dataTable['output_type'] = 'display_data';\n",
              "          await google.colab.output.renderOutput(dataTable, element);\n",
              "          const docLink = document.createElement('div');\n",
              "          docLink.innerHTML = docLinkHtml;\n",
              "          element.appendChild(docLink);\n",
              "        }\n",
              "      </script>\n",
              "    </div>\n",
              "  </div>\n",
              "  "
            ]
          },
          "metadata": {},
          "execution_count": 15
        }
      ]
    },
    {
      "cell_type": "code",
      "source": [
        "%time\n",
        "df.groupby('Activity').mean()['tBodyAccmeanX']"
      ],
      "metadata": {
        "colab": {
          "base_uri": "https://localhost:8080/"
        },
        "id": "hqKlBtQ3c4Vm",
        "outputId": "88d4719c-954d-42ec-9aec-fead30c47ae7"
      },
      "execution_count": null,
      "outputs": [
        {
          "output_type": "stream",
          "name": "stdout",
          "text": [
            "CPU times: user 0 ns, sys: 4 µs, total: 4 µs\n",
            "Wall time: 9.06 µs\n"
          ]
        },
        {
          "output_type": "execute_result",
          "data": {
            "text/plain": [
              "Activity\n",
              "LAYING                0.268649\n",
              "SITTING               0.273060\n",
              "STANDING              0.279153\n",
              "WALKING               0.276337\n",
              "WALKING_DOWNSTAIRS    0.288137\n",
              "WALKING_UPSTAIRS      0.262295\n",
              "Name: tBodyAccmeanX, dtype: float64"
            ]
          },
          "metadata": {},
          "execution_count": 16
        }
      ]
    },
    {
      "cell_type": "code",
      "source": [
        "print(\"Number of duplicates: \", df.duplicated().sum())  #check if there is any repition in values "
      ],
      "metadata": {
        "colab": {
          "base_uri": "https://localhost:8080/"
        },
        "id": "PTAPFxuReEA_",
        "outputId": "ac4e499b-d132-4495-dd3b-65db72529deb"
      },
      "execution_count": null,
      "outputs": [
        {
          "output_type": "stream",
          "name": "stdout",
          "text": [
            "Number of duplicates:  0\n"
          ]
        }
      ]
    },
    {
      "cell_type": "code",
      "source": [
        "sns.set_style('whitegrid')\n",
        "plt.figure(figsize=(16,8))\n",
        "plt.title('Data collected from all subjcts', fontsize=20)\n",
        "sns.countplot(x='subject',hue='Activity', data = df)  ## count plot of activity hue\n",
        "plt.show()"
      ],
      "metadata": {
        "colab": {
          "base_uri": "https://localhost:8080/",
          "height": 518
        },
        "id": "QNliONieeOiv",
        "outputId": "12ba418c-1382-4ca9-d512-b9ef49c6e890"
      },
      "execution_count": null,
      "outputs": [
        {
          "output_type": "display_data",
          "data": {
            "text/plain": [
              "<Figure size 1152x576 with 1 Axes>"
            ],
            "image/png": "[encoded data removed]"
          },
          "metadata": {}
        }
      ]
    },
    {
      "cell_type": "markdown",
      "source": [
        "3) ***DATA ANALYSIS***"
      ],
      "metadata": {
        "id": "FjMSolAzgSbV"
      }
    },
    {
      "cell_type": "markdown",
      "source": [
        "**Activities**\n",
        "\n",
        "1. Non Moving: SITTING, STANDING, LAYING\n",
        "2. Moving : WALKING, WALKING_DOWNSTAIRS, WALKING_UPSTAIRS"
      ],
      "metadata": {
        "id": "_-hvWnufe_j8"
      }
    },
    {
      "cell_type": "markdown",
      "source": [
        "Seeing the density of these activities for 2 features one in time domain and other in frequency domain for Accelerometer for MagMean."
      ],
      "metadata": {
        "id": "2lmUfvvjk0ee"
      }
    },
    {
      "cell_type": "code",
      "source": [
        "facetgrid = sns.FacetGrid(df,hue='Activity',size = 6, aspect=2)   ##6 features in Activity column will be included in legends\n",
        "facetgrid.map(sns.displot,'tBodyAccMagmean',hist = False).add_legend()   ##make distplot of tBodyAccMagmean\n",
        "plt.annotate(\"Moving Activities\", xy = (0.0,2), xytext = (0.0,5),size = 15, va = 'center',ha='left', \\\n",
        "             arrowprops=dict(arrowstyle=\"simple\",connectionstyle=\"arc3,rad=0.1\"))## point label of moving activities with an arrow in center"
      ],
      "metadata": {
        "colab": {
          "base_uri": "https://localhost:8080/",
          "height": 721
        },
        "id": "QD4ga0RRe3HC",
        "outputId": "72a85278-8801-42de-af5a-fc8400f6ab38"
      },
      "execution_count": null,
      "outputs": [
        {
          "output_type": "stream",
          "name": "stderr",
          "text": [
            "/usr/local/lib/python3.7/dist-packages/seaborn/axisgrid.py:337: UserWarning: The `size` parameter has been renamed to `height`; please update your code.\n",
            "  warnings.warn(msg, UserWarning)\n",
            "/usr/local/lib/python3.7/dist-packages/seaborn/distributions.py:2619: FutureWarning: `distplot` is a deprecated function and will be removed in a future version. Please adapt your code to use either `displot` (a figure-level function with similar flexibility) or `kdeplot` (an axes-level function for kernel density plots).\n",
            "  warnings.warn(msg, FutureWarning)\n",
            "/usr/local/lib/python3.7/dist-packages/seaborn/distributions.py:2619: FutureWarning: `distplot` is a deprecated function and will be removed in a future version. Please adapt your code to use either `displot` (a figure-level function with similar flexibility) or `kdeplot` (an axes-level function for kernel density plots).\n",
            "  warnings.warn(msg, FutureWarning)\n",
            "/usr/local/lib/python3.7/dist-packages/seaborn/distributions.py:2619: FutureWarning: `distplot` is a deprecated function and will be removed in a future version. Please adapt your code to use either `displot` (a figure-level function with similar flexibility) or `kdeplot` (an axes-level function for kernel density plots).\n",
            "  warnings.warn(msg, FutureWarning)\n",
            "/usr/local/lib/python3.7/dist-packages/seaborn/distributions.py:2619: FutureWarning: `distplot` is a deprecated function and will be removed in a future version. Please adapt your code to use either `displot` (a figure-level function with similar flexibility) or `kdeplot` (an axes-level function for kernel density plots).\n",
            "  warnings.warn(msg, FutureWarning)\n",
            "/usr/local/lib/python3.7/dist-packages/seaborn/distributions.py:2619: FutureWarning: `distplot` is a deprecated function and will be removed in a future version. Please adapt your code to use either `displot` (a figure-level function with similar flexibility) or `kdeplot` (an axes-level function for kernel density plots).\n",
            "  warnings.warn(msg, FutureWarning)\n",
            "/usr/local/lib/python3.7/dist-packages/seaborn/distributions.py:2619: FutureWarning: `distplot` is a deprecated function and will be removed in a future version. Please adapt your code to use either `displot` (a figure-level function with similar flexibility) or `kdeplot` (an axes-level function for kernel density plots).\n",
            "  warnings.warn(msg, FutureWarning)\n"
          ]
        },
        {
          "output_type": "execute_result",
          "data": {
            "text/plain": [
              "Text(0.0, 5, 'Moving Activities')"
            ]
          },
          "metadata": {},
          "execution_count": 32
        },
        {
          "output_type": "display_data",
          "data": {
            "text/plain": [
              "<Figure size 1018.62x432 with 1 Axes>"
            ],
            "image/png": "[encoded data removed]"
          },
          "metadata": {}
        }
      ]
    },
    {
      "cell_type": "markdown",
      "source": [
        "Seeing the same for fBodyAccMagMean "
      ],
      "metadata": {
        "id": "izUS4J5Rkf9t"
      }
    },
    {
      "cell_type": "code",
      "source": [
        "facetgrid = sns.FacetGrid(df,hue='Activity',size = 6, aspect=2) ##6 features in Activity column will be included in legends\n",
        "facetgrid.map(sns.distplot,'fBodyAccMagmean',hist = False).add_legend() ##make distplot of fBodyAccMagmean\n",
        "plt.annotate(\"Stationary Activities\", xy=(-0.956,17), xytext=(-0.9, 23), size=15,\\\n",
        "            va='center', ha='left',\\\n",
        "            arrowprops=dict(arrowstyle=\"simple\",connectionstyle=\"arc3,rad=0.1\"))  ## point label of stationary activities with an arrow in center\n",
        "plt.annotate(\"Moving Activities\", xy = (0.0,2), xytext = (0.0,5),size = 15, va = 'center',ha='left', \\\n",
        "             arrowprops=dict(arrowstyle=\"simple\",connectionstyle=\"arc3,rad=0.1\")) ## point label of moving activities with an arrow in center"
      ],
      "metadata": {
        "colab": {
          "base_uri": "https://localhost:8080/",
          "height": 831
        },
        "id": "Mmcr4bW9jWit",
        "outputId": "50bca911-1b21-41f8-d86a-5c4708397c14"
      },
      "execution_count": null,
      "outputs": [
        {
          "output_type": "stream",
          "name": "stderr",
          "text": [
            "/usr/local/lib/python3.7/dist-packages/seaborn/axisgrid.py:337: UserWarning: The `size` parameter has been renamed to `height`; please update your code.\n",
            "  warnings.warn(msg, UserWarning)\n",
            "/usr/local/lib/python3.7/dist-packages/seaborn/distributions.py:2619: FutureWarning: `distplot` is a deprecated function and will be removed in a future version. Please adapt your code to use either `displot` (a figure-level function with similar flexibility) or `kdeplot` (an axes-level function for kernel density plots).\n",
            "  warnings.warn(msg, FutureWarning)\n",
            "/usr/local/lib/python3.7/dist-packages/seaborn/distributions.py:2619: FutureWarning: `distplot` is a deprecated function and will be removed in a future version. Please adapt your code to use either `displot` (a figure-level function with similar flexibility) or `kdeplot` (an axes-level function for kernel density plots).\n",
            "  warnings.warn(msg, FutureWarning)\n",
            "/usr/local/lib/python3.7/dist-packages/seaborn/distributions.py:2619: FutureWarning: `distplot` is a deprecated function and will be removed in a future version. Please adapt your code to use either `displot` (a figure-level function with similar flexibility) or `kdeplot` (an axes-level function for kernel density plots).\n",
            "  warnings.warn(msg, FutureWarning)\n",
            "/usr/local/lib/python3.7/dist-packages/seaborn/distributions.py:2619: FutureWarning: `distplot` is a deprecated function and will be removed in a future version. Please adapt your code to use either `displot` (a figure-level function with similar flexibility) or `kdeplot` (an axes-level function for kernel density plots).\n",
            "  warnings.warn(msg, FutureWarning)\n",
            "/usr/local/lib/python3.7/dist-packages/seaborn/distributions.py:2619: FutureWarning: `distplot` is a deprecated function and will be removed in a future version. Please adapt your code to use either `displot` (a figure-level function with similar flexibility) or `kdeplot` (an axes-level function for kernel density plots).\n",
            "  warnings.warn(msg, FutureWarning)\n",
            "/usr/local/lib/python3.7/dist-packages/seaborn/distributions.py:2619: FutureWarning: `distplot` is a deprecated function and will be removed in a future version. Please adapt your code to use either `displot` (a figure-level function with similar flexibility) or `kdeplot` (an axes-level function for kernel density plots).\n",
            "  warnings.warn(msg, FutureWarning)\n"
          ]
        },
        {
          "output_type": "execute_result",
          "data": {
            "text/plain": [
              "Text(0.0, 5, 'Moving Activities')"
            ]
          },
          "metadata": {},
          "execution_count": 34
        },
        {
          "output_type": "display_data",
          "data": {
            "text/plain": [
              "<Figure size 1018.62x432 with 1 Axes>"
            ],
            "image/png": "[encoded data removed]"
          },
          "metadata": {}
        }
      ]
    },
    {
      "cell_type": "markdown",
      "source": [
        "Now let us see these density plots for other randomly picked features, here we took \"tBodyAccJerkMagmean\" and "
      ],
      "metadata": {
        "id": "04AKL5cAlWrL"
      }
    }
  ]
}